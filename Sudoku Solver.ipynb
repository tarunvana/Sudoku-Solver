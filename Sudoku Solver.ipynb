{
 "cells": [
  {
   "cell_type": "code",
   "execution_count": null,
   "metadata": {},
   "outputs": [],
   "source": [
    "def output(sud):\n",
    "    for i in range(9):\n",
    "        print(*sud[i])"
   ]
  },
  {
   "cell_type": "code",
   "execution_count": null,
   "metadata": {},
   "outputs": [],
   "source": [
    "def solver(sud,row,col,num):\n",
    "\n",
    "    for i in range(9):\n",
    "        if sud[row][i] == num or sud[i][col] == num :\n",
    "            return False\n",
    "\n",
    "    box_row = row // 3 * 3\n",
    "    box_col = col // 3 * 3\n",
    "\n",
    "    for i in range(3):\n",
    "        for j in range(3):\n",
    "            if sud[box_row+i][box_col+j] == num :\n",
    "                return False\n",
    "\n",
    "    return True"
   ]
  },
  {
   "cell_type": "code",
   "execution_count": null,
   "metadata": {},
   "outputs": [],
   "source": [
    "def sudoku(sud, row, col):\n",
    "\n",
    "    if row == 8 and col == 9 :\n",
    "        return True\n",
    "\n",
    "    if col == 9:\n",
    "        row , col = row + 1 , 0\n",
    "\n",
    "    if sud[row][col] < 0 or sud[row][col] > 9 :\n",
    "        return False\n",
    "\n",
    "    if sud[row][col] > 0:\n",
    "        return sudoku(sud, row, col + 1)\n",
    "\n",
    "    for num in range(1,10): \n",
    "        if solver(sud, row, col, num):\n",
    "            sud[row][col] = num\n",
    "            if sudoku(sud, row, col + 1):\n",
    "                return True\n",
    "        sud[row][col] = 0\n",
    "\n",
    "    return False"
   ]
  },
  {
   "cell_type": "code",
   "execution_count": null,
   "metadata": {},
   "outputs": [],
   "source": [
    "sud = [[0, 8, 0, 7, 0, 1, 0, 3, 0],\n",
    "       [4, 0, 9, 0, 0, 0, 0, 0, 0],\n",
    "       [0, 5, 0, 0, 6, 0, 4, 1, 8],\n",
    "       [7, 0, 0, 0, 0, 9, 0, 0, 0],\n",
    "       [8, 0, 0, 6, 1, 0, 5, 0, 0],\n",
    "       [0, 3, 5, 0, 0, 0, 0, 2, 9],\n",
    "       [0, 6, 0, 4, 0, 7, 0, 9, 0],\n",
    "       [1, 0, 0, 0, 0, 8, 0, 0, 4],\n",
    "       [0, 2, 0, 0, 5, 0, 0, 7, 0]]"
   ]
  },
  {
   "cell_type": "code",
   "execution_count": null,
   "metadata": {},
   "outputs": [],
   "source": [
    "if (sudoku(sud, 0, 0)) : \n",
    "    output(sud)\n",
    "else : \n",
    "    print(\"Sudoku cannot be solved.\")"
   ]
  }
 ],
 "metadata": {
  "kernelspec": {
   "display_name": "Python 3.10.4 64-bit",
   "language": "python",
   "name": "python3"
  },
  "language_info": {
   "codemirror_mode": {
    "name": "ipython",
    "version": 3
   },
   "file_extension": ".py",
   "mimetype": "text/x-python",
   "name": "python",
   "nbconvert_exporter": "python",
   "pygments_lexer": "ipython3",
   "version": "3.10.4"
  },
  "orig_nbformat": 4,
  "vscode": {
   "interpreter": {
    "hash": "52634da84371cba311ea128a5ea7cdc41ff074b781779e754b270ff9f8153cee"
   }
  }
 },
 "nbformat": 4,
 "nbformat_minor": 2
}
